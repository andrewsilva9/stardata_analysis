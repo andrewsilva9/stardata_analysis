{
 "cells": [
  {
   "cell_type": "code",
   "execution_count": 1,
   "metadata": {},
   "outputs": [
    {
     "name": "stderr",
     "output_type": "stream",
     "text": [
      "Using TensorFlow backend.\n"
     ]
    }
   ],
   "source": [
    "from torchcraft import replayer\n",
    "from keras.layers import Input, Dense, Flatten, Reshape, LSTM, RepeatVector\n",
    "from keras.models import Model\n",
    "from keras import backend as K\n",
    "from keras.callbacks import TensorBoard\n",
    "\n",
    "import numpy as np\n",
    "\n",
    "import matplotlib.pyplot as plt\n",
    "\n",
    "import cPickle\n",
    "\n",
    "from sklearn.preprocessing import StandardScaler\n",
    "import sys\n",
    "import os\n",
    "\n",
    "sys.path.insert(0, os.path.abspath('..'))\n",
    "from utils import data_utils, generate_role_datasets"
   ]
  },
  {
   "cell_type": "code",
   "execution_count": 2,
   "metadata": {},
   "outputs": [],
   "source": [
    "replay_data = replayer.load('/media/asilva/HD_home/StarData/dumped_replays/1/bwrep_v8os7.tcr')\n"
   ]
  },
  {
   "cell_type": "code",
   "execution_count": 3,
   "metadata": {},
   "outputs": [],
   "source": [
    "params = generate_role_datasets.hyper_params()\n",
    "data_sample = generate_role_datasets.game_over_time(replay=replay_data,\n",
    "                                                   valid_types=params['valid_units'],\n",
    "                                                   playerid=2,\n",
    "                                                   step_size=1,\n",
    "                                                   feature_set='max',\n",
    "                                                   add_orders=True)\n"
   ]
  },
  {
   "cell_type": "code",
   "execution_count": null,
   "metadata": {},
   "outputs": [],
   "source": [
    "def create_temporally_continuous_data(data_in):\n",
    "    \"\"\"\n",
    "    Take in the output from generate_role_datasets.game_over_time() and\n",
    "    create a new dictionary with an entry for each unit, with the value\n",
    "    being a list of lists of data for each frame\n",
    "    \"\"\"\n",
    "    temporally_continuous_data = {}\n",
    "    for i in range(len(data_in)):\n",
    "        for key, val in data_in[i].iteritems():\n",
    "            if key in temporally_continuous_data:\n",
    "                temporally_continuous_data[key].append(val.values())\n",
    "            else:\n",
    "                temporally_continuous_data[key] = [val.values()]\n",
    "    return temporally_continuous_data\n",
    "\n",
    "data_sample_temp = create_temporally_continuous_data(data_sample)\n",
    "print data_sample_temp[4][0]"
   ]
  },
  {
   "cell_type": "code",
   "execution_count": 13,
   "metadata": {},
   "outputs": [],
   "source": [
    "x_in = generate_role_datasets.hmm_data(data_sample, n_timesteps=params['window_size'], for_drawing=False)\n",
    "x_in = np.array(x_in)"
   ]
  },
  {
   "cell_type": "code",
   "execution_count": 14,
   "metadata": {},
   "outputs": [],
   "source": [
    "latent_dim = 32\n",
    "input_dim = len(x_in[0][0])\n",
    "inputs = Input(shape=(params['window_size'], input_dim))\n",
    "encoded = LSTM(latent_dim)(inputs)\n",
    "\n",
    "decoded = RepeatVector(params['window_size'])(encoded)\n",
    "\n",
    "decoded = LSTM(input_dim, return_sequences=True)(decoded)"
   ]
  },
  {
   "cell_type": "code",
   "execution_count": 15,
   "metadata": {},
   "outputs": [
    {
     "name": "stdout",
     "output_type": "stream",
     "text": [
      "_________________________________________________________________\n",
      "Layer (type)                 Output Shape              Param #   \n",
      "=================================================================\n",
      "input_3 (InputLayer)         (None, 16, 7)             0         \n",
      "_________________________________________________________________\n",
      "lstm_4 (LSTM)                (None, 32)                5120      \n",
      "_________________________________________________________________\n",
      "repeat_vector_2 (RepeatVecto (None, 16, 32)            0         \n",
      "_________________________________________________________________\n",
      "lstm_5 (LSTM)                (None, 16, 7)             1120      \n",
      "=================================================================\n",
      "Total params: 6,240\n",
      "Trainable params: 6,240\n",
      "Non-trainable params: 0\n",
      "_________________________________________________________________\n",
      "None\n"
     ]
    }
   ],
   "source": [
    "autoencoder = Model(inputs, decoded)\n",
    "print autoencoder.summary()\n",
    "autoencoder.compile(optimizer='rmsprop', loss='mean_squared_error')\n",
    "\n",
    "# encoder = Model(inputs, encoded)"
   ]
  },
  {
   "cell_type": "code",
   "execution_count": 16,
   "metadata": {},
   "outputs": [
    {
     "name": "stdout",
     "output_type": "stream",
     "text": [
      "Train on 64000 samples, validate on 1309 samples\n",
      "Epoch 1/50\n",
      "64000/64000 [==============================] - 40s 623us/step - loss: 0.0064 - val_loss: 0.0144\n",
      "Epoch 2/50\n",
      "64000/64000 [==============================] - 40s 630us/step - loss: 0.0022 - val_loss: 0.0171\n",
      "Epoch 3/50\n",
      "64000/64000 [==============================] - 40s 629us/step - loss: 0.0020 - val_loss: 0.0100\n",
      "Epoch 4/50\n",
      "64000/64000 [==============================] - 42s 651us/step - loss: 0.0018 - val_loss: 0.0073\n",
      "Epoch 5/50\n",
      "64000/64000 [==============================] - 39s 614us/step - loss: 0.0017 - val_loss: 0.0071\n",
      "Epoch 6/50\n",
      "64000/64000 [==============================] - 42s 663us/step - loss: 0.0017 - val_loss: 0.0075\n",
      "Epoch 7/50\n",
      "64000/64000 [==============================] - 44s 691us/step - loss: 0.0016 - val_loss: 0.0090\n",
      "Epoch 8/50\n",
      "64000/64000 [==============================] - 44s 693us/step - loss: 0.0015 - val_loss: 0.0056\n",
      "Epoch 9/50\n",
      "64000/64000 [==============================] - 43s 673us/step - loss: 0.0015 - val_loss: 0.0068\n",
      "Epoch 10/50\n",
      "64000/64000 [==============================] - 44s 686us/step - loss: 0.0015 - val_loss: 0.0060\n",
      "Epoch 11/50\n",
      "64000/64000 [==============================] - 45s 705us/step - loss: 0.0014 - val_loss: 0.0052\n",
      "Epoch 12/50\n",
      "64000/64000 [==============================] - 45s 699us/step - loss: 0.0014 - val_loss: 0.0064\n",
      "Epoch 13/50\n",
      "64000/64000 [==============================] - 44s 692us/step - loss: 0.0014 - val_loss: 0.0044\n",
      "Epoch 14/50\n",
      "64000/64000 [==============================] - 46s 711us/step - loss: 0.0014 - val_loss: 0.0045\n",
      "Epoch 15/50\n",
      "64000/64000 [==============================] - 44s 691us/step - loss: 0.0013 - val_loss: 0.0043\n",
      "Epoch 16/50\n",
      "64000/64000 [==============================] - 45s 696us/step - loss: 0.0013 - val_loss: 0.0044\n",
      "Epoch 17/50\n",
      "64000/64000 [==============================] - 44s 690us/step - loss: 0.0013 - val_loss: 0.0038\n",
      "Epoch 18/50\n",
      "64000/64000 [==============================] - 45s 702us/step - loss: 0.0013 - val_loss: 0.0056\n",
      "Epoch 19/50\n",
      "64000/64000 [==============================] - 46s 714us/step - loss: 0.0013 - val_loss: 0.0049\n",
      "Epoch 20/50\n",
      "64000/64000 [==============================] - 45s 708us/step - loss: 0.0013 - val_loss: 0.0057\n",
      "Epoch 21/50\n",
      "64000/64000 [==============================] - 45s 700us/step - loss: 0.0013 - val_loss: 0.0043\n",
      "Epoch 22/50\n",
      "64000/64000 [==============================] - 46s 714us/step - loss: 0.0012 - val_loss: 0.0052\n",
      "Epoch 23/50\n",
      "64000/64000 [==============================] - 46s 724us/step - loss: 0.0012 - val_loss: 0.0036\n",
      "Epoch 24/50\n",
      "64000/64000 [==============================] - 46s 720us/step - loss: 0.0012 - val_loss: 0.0045\n",
      "Epoch 25/50\n",
      "64000/64000 [==============================] - 46s 723us/step - loss: 0.0012 - val_loss: 0.0069\n",
      "Epoch 26/50\n",
      "64000/64000 [==============================] - 46s 718us/step - loss: 0.0012 - val_loss: 0.0050\n",
      "Epoch 27/50\n",
      "64000/64000 [==============================] - 46s 723us/step - loss: 0.0012 - val_loss: 0.0051\n",
      "Epoch 28/50\n",
      "64000/64000 [==============================] - 46s 725us/step - loss: 0.0012 - val_loss: 0.0039\n",
      "Epoch 29/50\n",
      "64000/64000 [==============================] - 45s 700us/step - loss: 0.0012 - val_loss: 0.0031\n",
      "Epoch 30/50\n",
      "64000/64000 [==============================] - 43s 667us/step - loss: 0.0012 - val_loss: 0.0044\n",
      "Epoch 31/50\n",
      "64000/64000 [==============================] - 41s 643us/step - loss: 0.0012 - val_loss: 0.0040\n",
      "Epoch 32/50\n",
      "64000/64000 [==============================] - 40s 620us/step - loss: 0.0012 - val_loss: 0.0029\n",
      "Epoch 33/50\n",
      "64000/64000 [==============================] - 40s 626us/step - loss: 0.0012 - val_loss: 0.0030\n",
      "Epoch 34/50\n",
      "64000/64000 [==============================] - 40s 629us/step - loss: 0.0012 - val_loss: 0.0034\n",
      "Epoch 35/50\n",
      "64000/64000 [==============================] - 40s 627us/step - loss: 0.0012 - val_loss: 0.0034\n",
      "Epoch 36/50\n",
      "64000/64000 [==============================] - 40s 629us/step - loss: 0.0011 - val_loss: 0.0032\n",
      "Epoch 37/50\n",
      "64000/64000 [==============================] - 40s 624us/step - loss: 0.0011 - val_loss: 0.0029\n",
      "Epoch 38/50\n",
      "64000/64000 [==============================] - 40s 629us/step - loss: 0.0011 - val_loss: 0.0026\n",
      "Epoch 39/50\n",
      "64000/64000 [==============================] - 43s 664us/step - loss: 0.0011 - val_loss: 0.0037\n",
      "Epoch 40/50\n",
      "64000/64000 [==============================] - 45s 702us/step - loss: 0.0011 - val_loss: 0.0026\n",
      "Epoch 41/50\n",
      "64000/64000 [==============================] - 41s 637us/step - loss: 0.0011 - val_loss: 0.0032\n",
      "Epoch 42/50\n",
      "64000/64000 [==============================] - 47s 733us/step - loss: 0.0011 - val_loss: 0.0045\n",
      "Epoch 43/50\n",
      "64000/64000 [==============================] - 62s 964us/step - loss: 0.0011 - val_loss: 0.0043\n",
      "Epoch 44/50\n",
      "64000/64000 [==============================] - 62s 967us/step - loss: 0.0011 - val_loss: 0.0026\n",
      "Epoch 45/50\n",
      "64000/64000 [==============================] - 43s 673us/step - loss: 0.0011 - val_loss: 0.0031\n",
      "Epoch 46/50\n",
      "64000/64000 [==============================] - 41s 643us/step - loss: 0.0011 - val_loss: 0.0034\n",
      "Epoch 47/50\n",
      "64000/64000 [==============================] - 41s 646us/step - loss: 0.0011 - val_loss: 0.0037\n",
      "Epoch 48/50\n",
      "64000/64000 [==============================] - 41s 645us/step - loss: 0.0011 - val_loss: 0.0024\n",
      "Epoch 49/50\n",
      "64000/64000 [==============================] - 41s 635us/step - loss: 0.0011 - val_loss: 0.0027\n",
      "Epoch 50/50\n",
      "64000/64000 [==============================] - 40s 618us/step - loss: 0.0011 - val_loss: 0.0024\n"
     ]
    },
    {
     "data": {
      "text/plain": [
       "<keras.callbacks.History at 0x7f1ec77db590>"
      ]
     },
     "execution_count": 16,
     "metadata": {},
     "output_type": "execute_result"
    }
   ],
   "source": [
    "x_train = x_in[:64000]\n",
    "x_test = x_in[64000:]\n",
    "autoencoder.fit(x_train, x_train,\n",
    "                epochs=50,\n",
    "                batch_size=32,\n",
    "                shuffle=True,\n",
    "                validation_data=(x_test, x_test),\n",
    "                callbacks=[TensorBoard(log_dir='/tmp/autoencoder')])"
   ]
  },
  {
   "cell_type": "code",
   "execution_count": 17,
   "metadata": {},
   "outputs": [
    {
     "data": {
      "image/png": "[encoded data removed]",
      "text/plain": [
       "<Figure size 1440x288 with 18 Axes>"
      ]
     },
     "metadata": {},
     "output_type": "display_data"
    }
   ],
   "source": [
    "decoded_imgs = autoencoder.predict(x_test)\n",
    "n = 10\n",
    "plt.figure(figsize=(20, 4))\n",
    "for i in range(1, n):\n",
    "    # display original\n",
    "    ax = plt.subplot(2, n, i)\n",
    "    plt.imshow(x_test[i].reshape(params['window_size'], input_dim))\n",
    "    plt.gray()\n",
    "    ax.get_xaxis().set_visible(False)\n",
    "    ax.get_yaxis().set_visible(False)\n",
    "\n",
    "    # display reconstruction\n",
    "    ax = plt.subplot(2, n, i + n)\n",
    "    plt.imshow(decoded_imgs[i].reshape(params['window_size'], input_dim))\n",
    "    plt.gray()\n",
    "    ax.get_xaxis().set_visible(False)\n",
    "    ax.get_yaxis().set_visible(False)\n",
    "plt.show()"
   ]
  },
  {
   "cell_type": "code",
   "execution_count": null,
   "metadata": {},
   "outputs": [],
   "source": []
  }
 ],
 "metadata": {
  "kernelspec": {
   "display_name": "Python 2",
   "language": "python",
   "name": "python2"
  },
  "language_info": {
   "codemirror_mode": {
    "name": "ipython",
    "version": 2
   },
   "file_extension": ".py",
   "mimetype": "text/x-python",
   "name": "python",
   "nbconvert_exporter": "python",
   "pygments_lexer": "ipython2",
   "version": "2.7.12"
  }
 },
 "nbformat": 4,
 "nbformat_minor": 2
}
