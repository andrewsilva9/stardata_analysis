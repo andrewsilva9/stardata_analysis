{
 "cells": [
  {
   "cell_type": "code",
   "execution_count": 5,
   "metadata": {},
   "outputs": [],
   "source": [
    "import torchcraft\n",
    "from torchcraft import replayer\n",
    "import os\n",
    "import pickle\n",
    "import numpy as np\n",
    "import data_utils\n",
    "from generate_role_datasets import unit_to_dict, game_over_time, post_process, hmm_data\n"
   ]
  },
  {
   "cell_type": "code",
   "execution_count": 6,
   "metadata": {},
   "outputs": [],
   "source": [
    "replays_master = open('good_files.txt', 'r').readlines()\n",
    "for i in range(len(replays_master)):\n",
    "    replays_master[i] = replays_master[i].split('\\n')[0]"
   ]
  },
  {
   "cell_type": "code",
   "execution_count": 7,
   "metadata": {},
   "outputs": [],
   "source": [
    "num_games_to_parse = 1\n",
    "step_size = 3\n",
    "window_size = 20\n",
    "# I only want information on these units:\n",
    "terran_valid_types = [0, 1, 2, 3, 5, 7, 8, 9, 11, 12, 13, 30, 32, 34, 58]\n",
    "zerg_valid_types = [37, 38, 39, 40, 41, 42, 43, 44, 45, 46, 47, 50, 62, 103]\n",
    "protoss_valid_types = [60, 61, 63, 64, 65, 66, 67, 68, 69, 70, 71, 72, 73, 83, 84, 85]\n",
    "zerg_babies = [35, 36, 59, 97]\n",
    "valid_units = terran_valid_types  # + zerg_valid_types + protoss_valid_types\n"
   ]
  },
  {
   "cell_type": "code",
   "execution_count": null,
   "metadata": {},
   "outputs": [],
   "source": [
    "# Cell for data generation across many games\n",
    "all_games = []\n",
    "for replay_path in replays_master:\n",
    "    if len(all_games) >= num_games_to_parse:\n",
    "        break\n",
    "    game_info = game_over_time(replay_path, valid_types=valid_units, playerid=2, step_size=step_size)\n",
    "    if game_info != -1:\n",
    "        all_games.append(game_info)\n",
    "        hmm_samples = hmm_data(game_info, n_timesteps=window_size)\n",
    "        print(\"Length of game: %s\" % len(game_info))\n",
    "        print(\"Number of HMM Samples: %s\" % len(hmm_samples))\n",
    "        X = []\n",
    "        for i in range(0, len(hmm_samples), 20):\n",
    "            X.append(hmm_samples[i])\n"
   ]
  },
  {
   "cell_type": "code",
   "execution_count": 8,
   "metadata": {},
   "outputs": [
    {
     "name": "stdout",
     "output_type": "stream",
     "text": [
      "loaded replay: /media/asilva/HD_home/StarData/dumped_replays/0/bwrep_poa7y.tcr of length:4546\n",
      "Length of game: 1516\n",
      "Number of HMM Samples: 2674\n"
     ]
    }
   ],
   "source": [
    "# Cell for data generation across 1 game (debugging)\n",
    "replay_path = '/media/asilva/HD_home/StarData/dumped_replays/0/bwrep_poa7y.tcr'\n",
    "game_info = game_over_time(replay_path, valid_types=valid_units, playerid=0, step_size=3)\n",
    "hmm_samples = hmm_data(game_info, n_timesteps=window_size)\n",
    "print(\"Length of game: %s\" % len(game_info))\n",
    "print(\"Number of HMM Samples: %s\" % len(hmm_samples))\n",
    "X = hmm_samples"
   ]
  },
  {
   "cell_type": "code",
   "execution_count": 9,
   "metadata": {},
   "outputs": [
    {
     "name": "stdout",
     "output_type": "stream",
     "text": [
      "1516\n",
      "2674\n",
      "60\n",
      "[0.03614457831325301, 0.05078125, 0.6666666666666666, 0.03614457831325301, 0.05078125, 0.6666666666666666, 0.023529411764705882, 0.05078125, 0.6666666666666666, 0.023255813953488372, 0.05078125, 0.6666666666666666, 0.03488372093023256, 0.05078125, 0.6666666666666666, 0.03488372093023256, 0.05330993774982883, 0.6666666666666666, 0.034482758620689655, 0.05160095630321448, 0.6666666666666666, 0.04597701149425287, 0.046589298601080326, 0.6666666666666666, 0.06896551724137931, 0.03876842429937345, 0.6666666666666666, 0.06896551724137931, 0.037314400731528904, 0.6666666666666666, 0.08045977011494253, 0.03876842429937345, 0.6666666666666666, 0.04597701149425287, 0.04336641271713773, 0.6666666666666666, 0.022988505747126436, 0.05160095630321448, 0.6666666666666666, 0.022988505747126436, 0.05330993774982883, 0.6666666666666666, 0.034482758620689655, 0.05330993774982883, 0.6666666666666666, 0.034482758620689655, 0.05330993774982883, 0.6666666666666666, 0.023255813953488372, 0.05330993774982883, 0.6666666666666666, 0.023255813953488372, 0.05330993774982883, 0.6666666666666666, 0.03488372093023256, 0.05330993774982883, 0.6666666666666666, 0.03529411764705882, 0.049909891949924366, 0.6666666666666666]\n"
     ]
    }
   ],
   "source": [
    "# print len(processed)\n",
    "print len(game_info)\n",
    "print len(X)\n",
    "print len(X[0])\n",
    "print X[-100]"
   ]
  },
  {
   "cell_type": "code",
   "execution_count": null,
   "metadata": {},
   "outputs": [],
   "source": []
  },
  {
   "cell_type": "code",
   "execution_count": null,
   "metadata": {},
   "outputs": [],
   "source": []
  },
  {
   "cell_type": "code",
   "execution_count": null,
   "metadata": {},
   "outputs": [],
   "source": []
  }
 ],
 "metadata": {
  "kernelspec": {
   "display_name": "Python 2",
   "language": "python",
   "name": "python2"
  },
  "language_info": {
   "codemirror_mode": {
    "name": "ipython",
    "version": 2
   },
   "file_extension": ".py",
   "mimetype": "text/x-python",
   "name": "python",
   "nbconvert_exporter": "python",
   "pygments_lexer": "ipython2",
   "version": "2.7.12"
  }
 },
 "nbformat": 4,
 "nbformat_minor": 2
}
