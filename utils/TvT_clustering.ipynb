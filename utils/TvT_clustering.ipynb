{
 "cells": [
  {
   "cell_type": "code",
   "execution_count": 20,
   "metadata": {},
   "outputs": [],
   "source": [
    "import torchcraft\n",
    "from torchcraft import replayer\n",
    "import os\n",
    "import pickle\n",
    "import numpy as np\n",
    "import data_utils\n",
    "from generate_role_datasets import unit_to_dict, game_over_time, post_process, hmm_data\n"
   ]
  },
  {
   "cell_type": "code",
   "execution_count": 21,
   "metadata": {},
   "outputs": [],
   "source": [
    "replays_master = open('good_files.txt', 'r').readlines()\n",
    "for i in range(len(replays_master)):\n",
    "    replays_master[i] = replays_master[i].split('\\n')[0]"
   ]
  },
  {
   "cell_type": "code",
   "execution_count": 22,
   "metadata": {},
   "outputs": [],
   "source": [
    "num_games_to_parse = 1\n",
    "step_size = 3\n",
    "window_size = 20\n",
    "# I only want information on these units:\n",
    "terran_valid_types = [0, 1, 2, 3, 5, 7, 8, 9, 11, 12, 13, 30, 32, 34, 58]\n",
    "zerg_valid_types = [37, 38, 39, 40, 41, 42, 43, 44, 45, 46, 47, 50, 62, 103]\n",
    "protoss_valid_types = [60, 61, 63, 64, 65, 66, 67, 68, 69, 70, 71, 72, 73, 83, 84, 85]\n",
    "zerg_babies = [35, 36, 59, 97]\n",
    "valid_units = terran_valid_types  # + zerg_valid_types + protoss_valid_types\n",
    "\n"
   ]
  },
  {
   "cell_type": "code",
   "execution_count": null,
   "metadata": {},
   "outputs": [],
   "source": [
    "# Cell for data generation across many games\n",
    "all_games = []\n",
    "for replay_path in replays_master:\n",
    "    if len(all_games) >= num_games_to_parse:\n",
    "        break\n",
    "    game_info = game_over_time(replay_path, valid_types=valid_units, playerid=2, step_size=step_size)\n",
    "    if game_info != -1:\n",
    "        all_games.append(game_info)\n",
    "        processed = post_process(game_info, n_timesteps=window_size)\n",
    "        print(\"Length of game: %s\" % len(game_info))\n",
    "        print(\"Number of Processed: %s\" % len(hmm_samples))\n",
    "        X = []\n",
    "        for i in range(0, len(processed), 20):\n",
    "            X.append(processed[i].values())\n"
   ]
  },
  {
   "cell_type": "code",
   "execution_count": 23,
   "metadata": {},
   "outputs": [
    {
     "name": "stdout",
     "output_type": "stream",
     "text": [
      "loaded replay: /media/asilva/HD_home/StarData/dumped_replays/0/bwrep_poa7y.tcr of length:4546\n"
     ]
    }
   ],
   "source": [
    "# Cell for data generation across 1 game (debugging)\n",
    "replay_path = '/media/asilva/HD_home/StarData/dumped_replays/0/bwrep_poa7y.tcr'\n",
    "game_info = game_over_time(replay_path, valid_types=valid_units, playerid=0, step_size=3)\n",
    "processed = post_process(game_info, n_timesteps=window_size)\n",
    "X = []\n",
    "for i in range(0, len(processed), 20):\n",
    "    X.append(processed[i].values())"
   ]
  },
  {
   "cell_type": "code",
   "execution_count": 24,
   "metadata": {},
   "outputs": [
    {
     "name": "stdout",
     "output_type": "stream",
     "text": [
      "1520\n",
      "1516\n",
      "76\n",
      "4\n",
      "[[0.0, 0.03521046167445302, 0.6, 0.0, 1.0], [0.0, 0.03756910949545184, 0.6, 0.0, 1.0], [0.0, 0.006176323555016366, 0.6, 0.0, 1.0], [0.0, 0.0390625, 0.6, 0.0, 1.0]]\n"
     ]
    }
   ],
   "source": [
    "print len(processed)\n",
    "print len(game_info)\n",
    "print len(X)\n",
    "print len(X[0])\n",
    "print X[0]"
   ]
  },
  {
   "cell_type": "code",
   "execution_count": 8,
   "metadata": {},
   "outputs": [],
   "source": [
    "from sklearn import cluster, datasets, mixture\n",
    "from sklearn.neighbors import kneighbors_graph\n",
    "from sklearn.externals import joblib\n",
    "\n",
    "num_clusters = 5\n",
    "\n",
    "two_means = cluster.MiniBatchKMeans(n_clusters=num_clusters)\n",
    "\n",
    "gmm = mixture.GaussianMixture(\n",
    "    n_components=num_clusters,\n",
    "    covariance_type='full')\n",
    "\n"
   ]
  },
  {
   "cell_type": "code",
   "execution_count": 9,
   "metadata": {},
   "outputs": [],
   "source": [
    "clustering_algorithms = (\n",
    "    ('MiniBatchKMeans', two_means),\n",
    "    ('GaussianMixture', gmm)\n",
    ")"
   ]
  },
  {
   "cell_type": "code",
   "execution_count": 10,
   "metadata": {},
   "outputs": [],
   "source": [
    "for name, algorithm in clustering_algorithms:\n",
    "    algorithm.fit(X)\n",
    "    joblib.dump(algorithm, 'clf/'+name+'.pkl') "
   ]
  }
 ],
 "metadata": {
  "kernelspec": {
   "display_name": "Python 2",
   "language": "python",
   "name": "python2"
  },
  "language_info": {
   "codemirror_mode": {
    "name": "ipython",
    "version": 2
   },
   "file_extension": ".py",
   "mimetype": "text/x-python",
   "name": "python",
   "nbconvert_exporter": "python",
   "pygments_lexer": "ipython2",
   "version": "2.7.12"
  }
 },
 "nbformat": 4,
 "nbformat_minor": 2
}
