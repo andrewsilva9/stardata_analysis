{
 "cells": [
  {
   "cell_type": "code",
   "execution_count": 1,
   "metadata": {},
   "outputs": [
    {
     "name": "stderr",
     "output_type": "stream",
     "text": [
      "/home/asilva/.virtualenvs/stardata/local/lib/python2.7/site-packages/h5py/__init__.py:36: FutureWarning: Conversion of the second argument of issubdtype from `float` to `np.floating` is deprecated. In future, it will be treated as `np.float64 == np.dtype(float).type`.\n",
      "  from ._conv import register_converters as _register_converters\n",
      "Using TensorFlow backend.\n"
     ]
    },
    {
     "name": "stdout",
     "output_type": "stream",
     "text": [
      "loaded replay: /media/asilva/HD_home/StarData/dumped_replays/1/bwrep_v8os7.tcr of length:13625\n",
      "Data collected\n",
      "temporally stitched\n"
     ]
    }
   ],
   "source": [
    "from torchcraft import replayer\n",
    "from keras.layers import Input, Dense, Flatten, Reshape, LSTM, RepeatVector\n",
    "from keras.models import Model, load_model\n",
    "from keras import backend as K\n",
    "from keras.callbacks import TensorBoard\n",
    "import numpy as np\n",
    "import matplotlib.pyplot as plt\n",
    "import cPickle\n",
    "import sys\n",
    "import argparse\n",
    "import os\n",
    "import h5py\n",
    "import tensorflow as tf\n",
    "from keras.backend.tensorflow_backend import set_session\n",
    "\n",
    "sys.path.insert(0, os.path.abspath('..'))\n",
    "from utils import data_utils, generate_role_datasets\n",
    "\n",
    "latent_dim = 16\n",
    "add_orders = 0\n",
    "feature_set = 'min'\n",
    "num_games = 1\n",
    "\n",
    "params = generate_role_datasets.hyper_params()\n",
    "data_replays = params['replays_master']\n",
    "X = data_utils.autoencode_dataset(data_replays,\n",
    "                                  valid_types=params['valid_units'],\n",
    "                                  step_size=1,\n",
    "                                  window_size=params['window_size'],\n",
    "                                  feature_set=feature_set,\n",
    "                                  add_orders=add_orders,\n",
    "                                  num_games=num_games)"
   ]
  },
  {
   "cell_type": "code",
   "execution_count": 20,
   "metadata": {},
   "outputs": [
    {
     "data": {
      "text/plain": [
       "[<keras.engine.topology.InputLayer at 0x7f58937e1590>,\n",
       " <keras.layers.recurrent.LSTM at 0x7f58937e1690>,\n",
       " <keras.layers.core.RepeatVector at 0x7f587db80050>,\n",
       " <keras.layers.recurrent.LSTM at 0x7f587db80310>]"
      ]
     },
     "execution_count": 20,
     "metadata": {},
     "output_type": "execute_result"
    }
   ],
   "source": [
    "model_path = '/home/asilva/Documents/stardata_analysis/deep_unsupervision/models/' + str(latent_dim) + feature_set\n",
    "if add_orders:\n",
    "    model_path += 'orders'\n",
    "model_path += '.h5'\n",
    "model = load_model(model_path)\n",
    "model.layers"
   ]
  },
  {
   "cell_type": "code",
   "execution_count": 21,
   "metadata": {},
   "outputs": [],
   "source": [
    "get_output = K.function([model.layers[0].input],\n",
    "                                  [model.layers[1].output])"
   ]
  },
  {
   "cell_type": "code",
   "execution_count": 28,
   "metadata": {},
   "outputs": [],
   "source": [
    "embed1 = get_output([X])[0]"
   ]
  },
  {
   "cell_type": "code",
   "execution_count": 29,
   "metadata": {},
   "outputs": [
    {
     "data": {
      "text/plain": [
       "(65309, 16)"
      ]
     },
     "execution_count": 29,
     "metadata": {},
     "output_type": "execute_result"
    }
   ],
   "source": [
    "np.shape(embed1)"
   ]
  },
  {
   "cell_type": "code",
   "execution_count": 19,
   "metadata": {},
   "outputs": [
    {
     "data": {
      "text/plain": [
       "[<keras.engine.topology.InputLayer at 0x7f58937e17d0>,\n",
       " <keras.layers.recurrent.LSTM at 0x7f58937e1a50>,\n",
       " <keras.layers.core.RepeatVector at 0x7f58937e1e10>,\n",
       " <keras.layers.recurrent.LSTM at 0x7f58937e1d50>]"
      ]
     },
     "execution_count": 19,
     "metadata": {},
     "output_type": "execute_result"
    }
   ],
   "source": []
  }
 ],
 "metadata": {
  "kernelspec": {
   "display_name": "Python 2",
   "language": "python",
   "name": "python2"
  },
  "language_info": {
   "codemirror_mode": {
    "name": "ipython",
    "version": 2
   },
   "file_extension": ".py",
   "mimetype": "text/x-python",
   "name": "python",
   "nbconvert_exporter": "python",
   "pygments_lexer": "ipython2",
   "version": "2.7.12"
  }
 },
 "nbformat": 4,
 "nbformat_minor": 2
}
