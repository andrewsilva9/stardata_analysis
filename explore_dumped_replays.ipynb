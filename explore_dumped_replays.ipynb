{
 "cells": [
  {
   "cell_type": "code",
   "execution_count": 2,
   "metadata": {},
   "outputs": [],
   "source": [
    "import torchcraft\n",
    "from torchcraft import replayer\n",
    "import os\n",
    "import pickle\n",
    "from utils import data_utils"
   ]
  },
  {
   "cell_type": "code",
   "execution_count": null,
   "metadata": {},
   "outputs": [],
   "source": [
    "# Watch health go down for units in this game. \n",
    "replay = replayer.load(\"/media/asilva/HD_home/StarData/dumped_replays/0/bwrep_poa7y.tcr\")\n",
    "unit_list = {}\n",
    "for frame_number in range(len(replay)):\n",
    "    frame = replay.getFrame(frame_number)\n",
    "    units = frame.units\n",
    "    for player_id, unit_arr in units.iteritems():\n",
    "        # Player -1 is map resources\n",
    "        if player_id < 0:\n",
    "            continue\n",
    "        for unit in unit_arr:\n",
    "            if unit.id in unit_list:\n",
    "                if unit_list[unit.id][0] > unit.health:\n",
    "                    print(\"HEALTH LOST FOR UNIT: \" + str(unit.id) + \" in frame \" + str(frame_number))\n",
    "                    print(\"Prior health: %s\" % unit_list[unit.id])\n",
    "                    print(\"Current health: %s\" % unit.health)\n",
    "            unit_list[unit.id] = [unit.health, data_utils.type_to_name(unit.type), unit.playerId]"
   ]
  },
  {
   "cell_type": "code",
   "execution_count": 4,
   "metadata": {},
   "outputs": [
    {
     "name": "stdout",
     "output_type": "stream",
     "text": [
      "3\n",
      "1\n",
      "1\n",
      "1\n",
      "1\n",
      "1\n",
      "1\n",
      "3\n"
     ]
    }
   ],
   "source": [
    "\n",
    "# Show possible values for an attribute:\n",
    "replay = replayer.load(\"/media/asilva/HD_home/StarData/dumped_replays/1/bwrep_zkcw9.tcr\")\n",
    "attr_dict = {}\n",
    "for frame_number in range(len(replay)):\n",
    "    frame = replay.getFrame(frame_number)\n",
    "    units = frame.units\n",
    "    for player_id, unit_arr in units.iteritems():\n",
    "        # Player -1 is map resources\n",
    "        if player_id < 0:\n",
    "            continue\n",
    "        for unit in unit_arr:\n",
    "            unit_type = data_utils.type_to_name(unit.type)\n",
    "            if unit_type in attr_dict:\n",
    "                if unit.orders[-1].type == 133:\n",
    "                    print len(unit.orders)\n",
    "                    continue\n",
    "                if unit.orders[-1].type in attr_dict[unit_type]:\n",
    "                    continue\n",
    "                else:\n",
    "                    attr_dict[unit_type].append(unit.orders[-1].type)\n",
    "            else:\n",
    "                attr_dict[unit_type] = [unit.orders[-1].type]\n",
    "            "
   ]
  },
  {
   "cell_type": "code",
   "execution_count": 5,
   "metadata": {},
   "outputs": [
    {
     "name": "stdout",
     "output_type": "stream",
     "text": [
      "orders[-1] list: \n"
     ]
    },
    {
     "data": {
      "text/plain": [
       "{'Protoss_Assimilator': [44L, 23L],\n",
       " 'Protoss_Citadel_of_Adun': [44L, 23L],\n",
       " 'Protoss_Cybernetics_Core': [44L, 23L, 76L],\n",
       " 'Protoss_Dragoon': [23L, 6L, 14L, 3L, 2L, 107L, 10L, 49L],\n",
       " 'Protoss_Gateway': [44L, 23L],\n",
       " 'Protoss_Nexus': [23L, 44L],\n",
       " 'Protoss_Observatory': [44L, 23L],\n",
       " 'Protoss_Observer': [23L, 2L, 3L],\n",
       " 'Protoss_Probe': [3L,\n",
       "  23L,\n",
       "  85L,\n",
       "  150L,\n",
       "  86L,\n",
       "  87L,\n",
       "  90L,\n",
       "  6L,\n",
       "  30L,\n",
       "  88L,\n",
       "  2L,\n",
       "  10L,\n",
       "  81L,\n",
       "  82L,\n",
       "  83L,\n",
       "  84L,\n",
       "  89L,\n",
       "  49L,\n",
       "  14L],\n",
       " 'Protoss_Pylon': [44L, 23L],\n",
       " 'Protoss_Robotics_Facility': [44L, 23L],\n",
       " 'Protoss_Templar_Archives': [44L],\n",
       " 'Protoss_Zealot': [23L],\n",
       " 'Terran_Academy': [44L, 23L],\n",
       " 'Terran_Barracks': [44L, 23L, 74L, 6L],\n",
       " 'Terran_Command_Center': [23L, 36L, 44L],\n",
       " 'Terran_Comsat_Station': [44L, 23L],\n",
       " 'Terran_Engineering_Bay': [44L, 23L],\n",
       " 'Terran_Factory': [44L, 23L, 74L, 71L],\n",
       " 'Terran_Machine_Shop': [44L, 23L, 75L, 76L],\n",
       " 'Terran_Marine': [23L, 6L, 3L, 14L, 10L, 2L, 49L],\n",
       " 'Terran_Missile_Turret': [44L, 23L, 18L],\n",
       " 'Terran_Refinery': [44L, 23L],\n",
       " 'Terran_SCV': [3L,\n",
       "  23L,\n",
       "  85L,\n",
       "  150L,\n",
       "  87L,\n",
       "  88L,\n",
       "  90L,\n",
       "  6L,\n",
       "  86L,\n",
       "  30L,\n",
       "  33L,\n",
       "  14L,\n",
       "  10L,\n",
       "  81L,\n",
       "  49L,\n",
       "  79L,\n",
       "  82L,\n",
       "  83L,\n",
       "  84L,\n",
       "  2L],\n",
       " 'Terran_Siege_Tank_Tank_Mode': [23L, 6L, 2L, 3L, 10L, 14L, 49L],\n",
       " 'Terran_Supply_Depot': [44L, 23L],\n",
       " 'Terran_Vulture': [23L, 6L, 3L, 10L, 2L, 14L, 132L, 49L],\n",
       " 'Terran_Vulture_Spider_Mine': [20L]}"
      ]
     },
     "execution_count": 5,
     "metadata": {},
     "output_type": "execute_result"
    }
   ],
   "source": [
    "print(\"orders[-1] list: \")\n",
    "attr_dict"
   ]
  },
  {
   "cell_type": "code",
   "execution_count": null,
   "metadata": {},
   "outputs": [],
   "source": [
    "# Follow and test a single unit\n",
    "master_unit_list = {}\n",
    "for frame_number in range(len(replay)):\n",
    "    frame = replay.getFrame(frame_number)\n",
    "    units = frame.units\n",
    "    for player_id, unit_arr in units.iteritems():\n",
    "        # Player -1 is map resources\n",
    "        if player_id < 0:\n",
    "            continue\n",
    "        for unit in unit_arr:\n",
    "            master_unit_list[unit.id] = unit.type\n",
    "            if unit.id != 210:\n",
    "                continue\n",
    "            print(\"Frame Number:\" + str(frame_number))\n",
    "            unit_type = data_utils.type_to_name(unit.type)\n",
    "            for order in unit.orders:\n",
    "                order_name = data_utils.order_type_to_name(order.type)\n",
    "                target = ''\n",
    "                if order.targetId in master_unit_list:\n",
    "                    target = data_utils.type_to_name(master_unit_list[order.targetId])\n",
    "                target += \" at (\" + str(order.targetX) + \", \" + str(order.targetY) + \")\"\n",
    "                print(unit_type + \" executing \" + order_name + \" with target: \" + target)\n",
    "            "
   ]
  },
  {
   "cell_type": "code",
   "execution_count": 8,
   "metadata": {},
   "outputs": [
    {
     "data": {
      "text/plain": [
       "True"
      ]
     },
     "execution_count": 8,
     "metadata": {},
     "output_type": "execute_result"
    }
   ],
   "source": [
    "attr_dict['Terran_Science_Facility'][0] == 44L"
   ]
  },
  {
   "cell_type": "code",
   "execution_count": null,
   "metadata": {},
   "outputs": [],
   "source": []
  }
 ],
 "metadata": {
  "kernelspec": {
   "display_name": "Python 2",
   "language": "python",
   "name": "python2"
  },
  "language_info": {
   "codemirror_mode": {
    "name": "ipython",
    "version": 2
   },
   "file_extension": ".py",
   "mimetype": "text/x-python",
   "name": "python",
   "nbconvert_exporter": "python",
   "pygments_lexer": "ipython2",
   "version": "2.7.12"
  }
 },
 "nbformat": 4,
 "nbformat_minor": 2
}
