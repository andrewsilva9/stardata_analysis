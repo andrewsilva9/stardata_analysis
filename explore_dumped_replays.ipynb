{
 "cells": [
  {
   "cell_type": "code",
   "execution_count": null,
   "metadata": {},
   "outputs": [],
   "source": [
    "import torchcraft\n",
    "from torchcraft import replayer\n",
    "import os\n",
    "import pickle\n",
    "from utils import data_utils"
   ]
  },
  {
   "cell_type": "code",
   "execution_count": null,
   "metadata": {},
   "outputs": [],
   "source": [
    "# Watch health go down for units in this game. \n",
    "replay = replayer.load(\"/media/asilva/HD_home/StarData/dumped_replays/0/bwrep_poa7y.tcr\")\n",
    "unit_list = {}\n",
    "for frame_number in range(len(replay)):\n",
    "    frame = replay.getFrame(frame_number)\n",
    "    units = frame.units\n",
    "    for player_id, unit_arr in units.iteritems():\n",
    "        # Player -1 is map resources\n",
    "        if player_id < 0:\n",
    "            continue\n",
    "        for unit in unit_arr:\n",
    "            if unit.id in unit_list:\n",
    "                if unit_list[unit.id][0] > unit.health:\n",
    "                    print(\"HEALTH LOST FOR UNIT: \" + str(unit.id) + \" in frame \" + str(frame_number))\n",
    "                    print(\"Prior health: %s\" % unit_list[unit.id])\n",
    "                    print(\"Current health: %s\" % unit.health)\n",
    "            unit_list[unit.id] = [unit.health, data_utils.type_to_name(unit.type), unit.playerId]"
   ]
  },
  {
   "cell_type": "code",
   "execution_count": null,
   "metadata": {},
   "outputs": [],
   "source": [
    "# Show possible values for an attribute:\n",
    "replay = replayer.load(\"/media/asilva/HD_home/StarData/dumped_replays/0/bwrep_poa7y.tcr\")\n",
    "attr_dict = {}\n",
    "for frame_number in range(len(replay)):\n",
    "    frame = replay.getFrame(frame_number)\n",
    "    units = frame.units\n",
    "    for player_id, unit_arr in units.iteritems():\n",
    "        # Player -1 is map resources\n",
    "        if player_id < 0:\n",
    "            continue\n",
    "        for unit in unit_arr:\n",
    "            unit_type = data_utils.type_to_name(unit.type)\n",
    "            if unit_type in attr_dict:\n",
    "                if unit.command.type in attr_dict[unit_type]:\n",
    "                    continue\n",
    "                else:\n",
    "                    attr_dict[unit_type].append(unit.command.type)\n",
    "            else:\n",
    "                attr_dict[unit_type] = [unit.command.type]\n",
    "            "
   ]
  },
  {
   "cell_type": "code",
   "execution_count": null,
   "metadata": {},
   "outputs": [],
   "source": [
    "print(\"commands list: \")\n",
    "attr_dict"
   ]
  },
  {
   "cell_type": "code",
   "execution_count": null,
   "metadata": {},
   "outputs": [],
   "source": [
    "# Follow and test a single unit\n",
    "master_unit_list = {}\n",
    "for frame_number in range(len(replay)):\n",
    "    frame = replay.getFrame(frame_number)\n",
    "    units = frame.units\n",
    "    for player_id, unit_arr in units.iteritems():\n",
    "        # Player -1 is map resources\n",
    "        if player_id < 0:\n",
    "            continue\n",
    "        for unit in unit_arr:\n",
    "            master_unit_list[unit.id] = unit.type\n",
    "            if unit.id != 210:\n",
    "                continue\n",
    "            print(\"Frame Number:\" + str(frame_number))\n",
    "            unit_type = data_utils.type_to_name(unit.type)\n",
    "            for order in unit.orders:\n",
    "                order_name = data_utils.order_type_to_name(order.type)\n",
    "                target = ''\n",
    "                if order.targetId in master_unit_list:\n",
    "                    target = data_utils.type_to_name(master_unit_list[order.targetId])\n",
    "                target += \" at (\" + str(order.targetX) + \", \" + str(order.targetY) + \")\"\n",
    "                print(unit_type + \" executing \" + order_name + \" with target: \" + target)\n",
    "            "
   ]
  },
  {
   "cell_type": "code",
   "execution_count": null,
   "metadata": {},
   "outputs": [],
   "source": []
  }
 ],
 "metadata": {
  "kernelspec": {
   "display_name": "Python 2",
   "language": "python",
   "name": "python2"
  },
  "language_info": {
   "codemirror_mode": {
    "name": "ipython",
    "version": 2
   },
   "file_extension": ".py",
   "mimetype": "text/x-python",
   "name": "python",
   "nbconvert_exporter": "python",
   "pygments_lexer": "ipython2",
   "version": "2.7.12"
  }
 },
 "nbformat": 4,
 "nbformat_minor": 2
}
