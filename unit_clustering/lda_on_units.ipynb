{
 "cells": [
  {
   "cell_type": "code",
   "execution_count": 28,
   "metadata": {},
   "outputs": [],
   "source": [
    "from time import time\n",
    "\n",
    "from sklearn.decomposition import LatentDirichletAllocation\n",
    "import pickle\n",
    "import numpy as np\n",
    "\n",
    "# Ugly hack to get to utils, which for some reason doesn't work in a notebook...\n",
    "import sys\n",
    "import os\n",
    "sys.path.insert(0, os.path.abspath('..'))\n",
    "from utils import data_utils\n",
    "\n",
    "n_samples = 2000\n",
    "n_features = 1000\n",
    "n_components = 5\n",
    "n_top_words = 10\n",
    "\n",
    "\n",
    "def print_top_words(model, n_top_words):\n",
    "    for topic_idx, topic in enumerate(model.components_):\n",
    "        message = \"Topic #%d: \" % topic_idx\n",
    "        message += \" \".join([data_utils.order_type_to_name(key)\n",
    "                             for key in topic.argsort()[:-n_top_words - 1:-1]])\n",
    "        print(message)\n",
    "    print(\"\")\n",
    "\n",
    "data_in = pickle.load(open('/home/asilva/Documents/stardata_analysis/utils/1_lda_games.pkl', 'rb'))"
   ]
  },
  {
   "cell_type": "code",
   "execution_count": 30,
   "metadata": {},
   "outputs": [
    {
     "name": "stdout",
     "output_type": "stream",
     "text": [
      "Fitting LDA models with tf features, n_samples=821 and n_features=192...\n",
      "done in 0.454s.\n",
      "\n",
      "Topics in LDA model:\n",
      "Topic #0: VultureMine Move PickupIdle PlaceMine Scanner AttackUnit AttackMove Follow Sieging MoveUnload\n",
      "Topic #1: MiningMinerals MoveToMinerals ReturnMinerals WaitForMinerals PlayerGuard ResetCollision ConstructingBuilding Nothing PlaceBuilding Move\n",
      "Topic #2: MoveToGas ReturnGas HarvestGas MoveToMinerals MiningMinerals ReturnMinerals ConstructingBuilding WaitForGas ResetCollision WaitForMinerals\n",
      "Topic #3: TowerGuard IncompleteBuilding AttackUnit Nothing MiningMinerals MoveToMinerals ReturnMinerals PlayerGuard HoldPosition Move\n",
      "Topic #4: Nothing PlayerGuard AttackMove AttackUnit Move IncompleteBuilding HoldPosition Upgrade ResearchTech EnterTransport\n",
      "\n"
     ]
    }
   ],
   "source": [
    "print(\"Fitting LDA models with tf features, \"\n",
    "      \"n_samples=%d and n_features=%d...\"\n",
    "      % (len(data_in), len(data_in[0])))\n",
    "lda = LatentDirichletAllocation(n_components=n_components, max_iter=5,\n",
    "                                learning_method='online',\n",
    "                                learning_offset=50.,\n",
    "                                random_state=0)\n",
    "t0 = time()\n",
    "lda.fit(data_in)\n",
    "print(\"done in %0.3fs.\" % (time() - t0))\n",
    "\n",
    "print(\"\\nTopics in LDA model:\")\n",
    "print_top_words(lda, n_top_words)"
   ]
  },
  {
   "cell_type": "code",
   "execution_count": null,
   "metadata": {},
   "outputs": [],
   "source": []
  }
 ],
 "metadata": {
  "kernelspec": {
   "display_name": "Python 2",
   "language": "python",
   "name": "python2"
  },
  "language_info": {
   "codemirror_mode": {
    "name": "ipython",
    "version": 2
   },
   "file_extension": ".py",
   "mimetype": "text/x-python",
   "name": "python",
   "nbconvert_exporter": "python",
   "pygments_lexer": "ipython2",
   "version": "2.7.12"
  }
 },
 "nbformat": 4,
 "nbformat_minor": 1
}
