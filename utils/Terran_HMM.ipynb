{
 "cells": [
  {
   "cell_type": "code",
   "execution_count": 2,
   "metadata": {},
   "outputs": [],
   "source": [
    "import torchcraft\n",
    "from torchcraft import replayer\n",
    "import os\n",
    "import pickle\n",
    "import numpy as np\n",
    "import data_utils\n",
    "from generate_role_datasets import unit_to_dict, game_over_time, post_process, hmm_data\n"
   ]
  },
  {
   "cell_type": "code",
   "execution_count": 3,
   "metadata": {},
   "outputs": [],
   "source": [
    "replays_master = open('good_files.txt', 'r').readlines()\n",
    "for i in range(len(replays_master)):\n",
    "    replays_master[i] = replays_master[i].split('\\n')[0]"
   ]
  },
  {
   "cell_type": "code",
   "execution_count": 4,
   "metadata": {},
   "outputs": [],
   "source": [
    "num_games_to_parse = 1\n",
    "step_size = 3\n",
    "window_size = 20\n",
    "# I only want information on these units:\n",
    "terran_valid_types = [0, 1, 2, 3, 5, 7, 8, 9, 11, 12, 13, 30, 32, 34, 58]\n",
    "zerg_valid_types = [37, 38, 39, 40, 41, 42, 43, 44, 45, 46, 47, 50, 62, 103]\n",
    "protoss_valid_types = [60, 61, 63, 64, 65, 66, 67, 68, 69, 70, 71, 72, 73, 83, 84, 85]\n",
    "zerg_babies = [35, 36, 59, 97]\n",
    "valid_units = terran_valid_types  # + zerg_valid_types + protoss_valid_types\n"
   ]
  },
  {
   "cell_type": "code",
   "execution_count": null,
   "metadata": {},
   "outputs": [],
   "source": [
    "# Cell for data generation across many games\n",
    "all_games = []\n",
    "for replay_path in replays_master:\n",
    "    if len(all_games) >= num_games_to_parse:\n",
    "        break\n",
    "    game_info = game_over_time(replay_path, valid_types=valid_units, playerid=2, step_size=step_size)\n",
    "    if game_info != -1:\n",
    "        all_games.append(game_info)\n",
    "        hmm_samples = hmm_data(game_info, n_timesteps=window_size)\n",
    "        print(\"Length of game: %s\" % len(game_info))\n",
    "        print(\"Number of HMM Samples: %s\" % len(hmm_samples))\n",
    "        X = []\n",
    "        for i in range(0, len(hmm_samples), 20):\n",
    "            X.append(hmm_samples[i])\n"
   ]
  },
  {
   "cell_type": "code",
   "execution_count": null,
   "metadata": {},
   "outputs": [],
   "source": [
    "# Cell for data generation across 1 game (debugging)\n",
    "replay_path = '/media/asilva/HD_home/StarData/dumped_replays/0/bwrep_poa7y.tcr'\n",
    "game_info = game_over_time(replay_path, valid_types=valid_units, playerid=0, step_size=3)\n",
    "hmm_samples = hmm_data(game_info, n_timesteps=window_size)\n",
    "print(\"Length of game: %s\" % len(game_info))\n",
    "print(\"Number of HMM Samples: %s\" % len(hmm_samples))\n",
    "X = hmm_samples"
   ]
  },
  {
   "cell_type": "code",
   "execution_count": null,
   "metadata": {},
   "outputs": [],
   "source": [
    "# print len(processed)\n",
    "print len(game_info)\n",
    "print len(X)\n",
    "print len(X[0])\n",
    "print X[-100]"
   ]
  },
  {
   "cell_type": "code",
   "execution_count": null,
   "metadata": {},
   "outputs": [],
   "source": []
  },
  {
   "cell_type": "code",
   "execution_count": null,
   "metadata": {},
   "outputs": [],
   "source": []
  },
  {
   "cell_type": "code",
   "execution_count": null,
   "metadata": {},
   "outputs": [],
   "source": []
  }
 ],
 "metadata": {
  "kernelspec": {
   "display_name": "Python 2",
   "language": "python",
   "name": "python2"
  },
  "language_info": {
   "codemirror_mode": {
    "name": "ipython",
    "version": 2
   },
   "file_extension": ".py",
   "mimetype": "text/x-python",
   "name": "python",
   "nbconvert_exporter": "python",
   "pygments_lexer": "ipython2",
   "version": "2.7.12"
  }
 },
 "nbformat": 4,
 "nbformat_minor": 2
}
